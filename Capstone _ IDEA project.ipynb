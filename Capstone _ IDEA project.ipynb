{
    "cells": [
        {
            "metadata": {
                "collapsed": true
            },
            "cell_type": "markdown",
            "source": "# Using Machine Learning to find locations to open a Burmese Restaurent\n"
        },
        {
            "metadata": {},
            "cell_type": "markdown",
            "source": "## Musa Mazhar (www.github.com/musa789)\n### 1.Introduction\n#### 1.1 Background\nFor this Capstone project, I am creating a hypothetical scenario for a concept Burmese\nrestaurateur who wants to explore opening an authentic Burmese restaurant in Toronto area. The\nidea behind this project is that there may not be enough Burmese restaurants in Toronto and it might\npresent a great opportunity for this entrepreneur who is based in Canada. As Burmese food is very\nsimilar to other Asian cuisines, this entrepreneur is thinking of opening this restaurant in locations\nwhere Asian food is popular (aka many Asian restaurants in the neighborhood). With the purpose in\nmind, finding the location to open such a restaurant is one of the most important decisions for this\nentrepreneur and I am designing this project to help him find the most suitable location.\n\n### 1.2 Business Problem\nThe objective of this capstone project is to find the most suitable location for the\nentrepreneur to open a new Burmese restaurant in Toronto, Canada. By using data science methods\nand machine learning methods such as clustering, this project aims to provide solutions to answer\nthe business question: In Toronto, if an entrepreneur wants to open a Burmese restaurant, where\nshould they consider opening it?\n\n1. Target Audience\nThe entrepreneur who wants to find the location to open authentic Burmese restaurant\n\n2. Data\nTo solve this problem, I will need below data:\n\n\u25cf List of neighborhoods in Toronto, Canada.\n\u25cf Latitude and Longitude of these neighborhoods.\n\u25cf Venue data related to Asian restaurants. This will help us find the neighborhoods that are most suitable to open a Burmese restaurant.\n\n3. Extracting Data\n\u25cf Scrapping of Toronto neighborhoods via Wikipedia\n\u25cf Getting Latitude and Longitude data of these neighborhoods via Geocoder package\n\u25cf Using Foursquare API to get venue data related to these neighborhoods"
        },
        {
            "metadata": {},
            "cell_type": "code",
            "source": "",
            "execution_count": null,
            "outputs": []
        }
    ],
    "metadata": {
        "kernelspec": {
            "name": "python3",
            "display_name": "Python 3.6",
            "language": "python"
        },
        "language_info": {
            "name": "python",
            "version": "3.6.9",
            "mimetype": "text/x-python",
            "codemirror_mode": {
                "name": "ipython",
                "version": 3
            },
            "pygments_lexer": "ipython3",
            "nbconvert_exporter": "python",
            "file_extension": ".py"
        }
    },
    "nbformat": 4,
    "nbformat_minor": 1
}